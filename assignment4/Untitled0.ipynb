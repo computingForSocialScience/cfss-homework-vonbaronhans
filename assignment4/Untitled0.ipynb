{
 "metadata": {
  "name": "",
  "signature": "sha256:6fe84cd1e2c13fc18118785bb088f689b1cbc55a600f7e27dde947a8a0bb3d93"
 },
 "nbformat": 3,
 "nbformat_minor": 0,
 "worksheets": [
  {
   "cells": [
    {
     "cell_type": "code",
     "collapsed": false,
     "input": [
      "import csv\n",
      "import sys\n",
      "\n",
      "def readCSV(filename):\n",
      "    '''Reads the CSV file `filename` and returns a list\n",
      "    with as many items as the CSV has rows. Each list item \n",
      "    is a tuple containing the columns in that row as stings.\n",
      "    Note that if the CSV has a header, it will be the first\n",
      "    item in the list.'''\n",
      "    with open(filename,'r') as f:\n",
      "        rdr = csv.reader(f)\n",
      "        lines = list(rdr)\n",
      "    return(lines)"
     ],
     "language": "python",
     "metadata": {},
     "outputs": [],
     "prompt_number": 1
    },
    {
     "cell_type": "code",
     "collapsed": false,
     "input": [],
     "language": "python",
     "metadata": {},
     "outputs": [],
     "prompt_number": 1
    },
    {
     "cell_type": "code",
     "collapsed": false,
     "input": [
      "hp_permits = readCSV(\"permits_hydepark.csv\")"
     ],
     "language": "python",
     "metadata": {},
     "outputs": [],
     "prompt_number": 2
    },
    {
     "cell_type": "code",
     "collapsed": false,
     "input": [],
     "language": "python",
     "metadata": {},
     "outputs": [],
     "prompt_number": 2
    },
    {
     "cell_type": "code",
     "collapsed": false,
     "input": [
      "def get_avg_latlng(permits_list):\n",
      "    sum_lats = 0\n",
      "    sum_lngs = 0\n",
      "    for permit in permits_list:\n",
      "        lat = float(permit[-3])\n",
      "        #print lat\n",
      "        lng = float(permit[-2])\n",
      "        #print lng\n",
      "        sum_lats += lat\n",
      "        sum_lngs += lng\n",
      "    avg_lats = sum_lats / len(permits_list)\n",
      "    avg_lngs = sum_lngs / len(permits_list)\n",
      "    avg_latlng = \"(\" + str(avg_lats) + ',' + str(avg_lngs) + \")\"\n",
      "    return avg_latlng\n",
      "    \n",
      "    "
     ],
     "language": "python",
     "metadata": {},
     "outputs": [],
     "prompt_number": 3
    },
    {
     "cell_type": "code",
     "collapsed": false,
     "input": [
      "#print len(hp_permits)\n",
      "get_avg_latlng(hp_permits)"
     ],
     "language": "python",
     "metadata": {},
     "outputs": [
      {
       "metadata": {},
       "output_type": "pyout",
       "prompt_number": 4,
       "text": [
        "'(41.7863453226,-87.5897448921)'"
       ]
      }
     ],
     "prompt_number": 4
    },
    {
     "cell_type": "code",
     "collapsed": false,
     "input": [
      "\n"
     ],
     "language": "python",
     "metadata": {},
     "outputs": [],
     "prompt_number": 4
    },
    {
     "cell_type": "code",
     "collapsed": false,
     "input": [
      "%matplotlib inline\n",
      "import matplotlib.pyplot as plt\n",
      "import re\n",
      "import Image\n",
      "\n",
      "def zip_code_barchart(permits_list):\n",
      "    \"\"\"plots and saves as a .jpg a bar chart of contractor zip codes\"\"\"\n",
      "    #First, create list of zip codes\n",
      "    zipcodes = []\n",
      "    zip_indeces = [28,35,42,49,56,63,70,77] #indeces for zip codes for contractors\n",
      "    for permit in permits_list:\n",
      "        for index in zip_indeces:\n",
      "            if permit[index] == '':\n",
      "                continue\n",
      "            zip_match = re.match('[0-9]{5}', permit[index])\n",
      "            if zip_match:\n",
      "                z = int(zip_match.group())\n",
      "                zipcodes.append(z)\n",
      "    print zipcodes\n",
      "    print len(zipcodes)\n",
      "    \n",
      "    #Create histogram of zipcodes\n",
      "    plt.hist(zipcodes, bins=50)\n",
      "    plt.title('Zipcode Histogram')\n",
      "    plt.xlabel('Contractor Zipcodes')\n",
      "    plt.ylabel('Frequency')\n",
      "    plt.grid(True)\n",
      "    plt.draw()\n",
      "    plt.savefig('histogram.png')\n",
      "    Image.open('histogram.png').save('histogram.jpg', 'JPEG')\n",
      "               \n",
      "\n",
      "    \n",
      "    "
     ],
     "language": "python",
     "metadata": {},
     "outputs": [],
     "prompt_number": 34
    },
    {
     "cell_type": "code",
     "collapsed": false,
     "input": [
      "zip_code_barchart(hp_permits)"
     ],
     "language": "python",
     "metadata": {},
     "outputs": [
      {
       "output_type": "stream",
       "stream": "stdout",
       "text": [
        "[60193, 60649, 60609, 60608, 60637, 60565, 60615, 60603, 60465, 60527, 46307, 60803, 60646, 60646, 60538, 60603, 60538, 60603, 60515, 60603, 60193]\n",
        "21\n"
       ]
      },
      {
       "metadata": {},
       "output_type": "display_data",
       "png": "[encoded data removed]",
       "text": [
        "<matplotlib.figure.Figure at 0x9a0ecc0>"
       ]
      }
     ],
     "prompt_number": 35
    },
    {
     "cell_type": "code",
     "collapsed": false,
     "input": [],
     "language": "python",
     "metadata": {},
     "outputs": []
    },
    {
     "cell_type": "code",
     "collapsed": false,
     "input": [],
     "language": "python",
     "metadata": {},
     "outputs": []
    },
    {
     "cell_type": "code",
     "collapsed": false,
     "input": [],
     "language": "python",
     "metadata": {},
     "outputs": []
    }
   ],
   "metadata": {}
  }
 ]
}